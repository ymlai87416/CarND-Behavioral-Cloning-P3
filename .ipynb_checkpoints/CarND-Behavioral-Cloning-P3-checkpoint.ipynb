{
 "cells": [
  {
   "cell_type": "code",
   "execution_count": 1,
   "metadata": {},
   "outputs": [],
   "source": [
    "import csv\n",
    "import cv2\n",
    "import numpy as np\n",
    "import tensorflow as tf\n",
    "import random\n",
    "from PIL import Image"
   ]
  },
  {
   "cell_type": "code",
   "execution_count": 2,
   "metadata": {},
   "outputs": [],
   "source": [
    "lines = []\n",
    "\n",
    "with open(\"./train_data/track_1_normal/driving_log.csv\") as csvfile:\n",
    "    reader = csv.reader(csvfile)\n",
    "    for line in reader:\n",
    "            lines.append(line)"
   ]
  },
  {
   "cell_type": "code",
   "execution_count": 3,
   "metadata": {},
   "outputs": [],
   "source": [
    "images = []\n",
    "measurements = []\n",
    "correction = [0, 0.2, -0.2]\n",
    "\n",
    "for line in lines:\n",
    "    measurement = float(line[3])\n",
    "    if(measurement > -0.05 and measurement < 0.05 and random.random() > 0.4):\n",
    "        continue\n",
    "    for i in range(3):\n",
    "        source_path = line[i]\n",
    "        filename = source_path.split('\\\\')[-1]\n",
    "        current_path = './train_data/track_1_normal/IMG/' + filename\n",
    "        #print('debugx', current_path)\n",
    "        image = Image.open(current_path)\n",
    "        image = image.convert('YCbCr')\n",
    "        #image = cv2.cvtColor(image, cv2.COLOR_BGR2YUV)\n",
    "        images.append(image)\n",
    "        measurements.append(measurement + correction[i])"
   ]
  },
  {
   "cell_type": "code",
   "execution_count": 4,
   "metadata": {},
   "outputs": [],
   "source": [
    "augmented_images, augmented_measurements = [], []\n",
    "for image, measurement in zip(images, measurements):\n",
    "    augmented_images.append(image)\n",
    "    augmented_measurements.append(measurement)\n",
    "    augmented_images.append(cv2.flip(image, 1))\n",
    "    augmented_measurements.append(measurement*-1.0)"
   ]
  },
  {
   "cell_type": "code",
   "execution_count": 5,
   "metadata": {},
   "outputs": [
    {
     "data": {
      "text/plain": [
       "(array([  2.06107374e-02,   2.74809832e-03,   1.37404916e-03,\n",
       "          8.24429495e-03,   0.00000000e+00,   1.37404916e-03,\n",
       "          0.00000000e+00,   0.00000000e+00,   2.47328848e-02,\n",
       "          2.61069340e-02,   1.09923933e-02,   3.43512289e-02,\n",
       "          6.32062613e-02,   1.37404916e-02,   9.61834411e-03,\n",
       "          5.08398188e-02,   5.08398188e-02,   1.01679638e-01,\n",
       "          1.05801785e-01,   1.64885899e-01,   1.84122587e-01,\n",
       "          1.15420129e-01,   1.29160621e-01,   1.44275162e-01,\n",
       "          1.66259948e-01,   1.81374489e-01,   2.37710504e-01,\n",
       "          2.65191487e-01,   3.27023700e-01,   3.40764191e-01,\n",
       "          3.03664864e-01,   3.05038913e-01,   4.67176714e-01,\n",
       "          4.16336895e-01,   4.30077386e-01,   5.97711384e-01,\n",
       "          6.45803104e-01,   6.14199974e-01,   8.86261707e-01,\n",
       "          7.72215627e-01,   5.63360155e-01,   3.52855824e+00,\n",
       "          6.01833531e-01,   8.23055446e-01,   1.07725454e+00,\n",
       "          9.19238887e-01,   1.02641472e+00,   1.13908675e+00,\n",
       "          6.74658137e-01,   8.09314954e-01,   3.70855868e+00,\n",
       "          6.74658137e-01,   1.13908675e+00,   1.02641472e+00,\n",
       "          9.19238887e-01,   1.07725454e+00,   8.23055446e-01,\n",
       "          6.01833531e-01,   3.52855824e+00,   5.63360155e-01,\n",
       "          7.72215627e-01,   8.86261707e-01,   6.14199974e-01,\n",
       "          6.45803104e-01,   5.97711384e-01,   4.30077386e-01,\n",
       "          4.16336895e-01,   4.67176714e-01,   3.05038913e-01,\n",
       "          3.03664864e-01,   3.40764191e-01,   3.27023700e-01,\n",
       "          2.65191487e-01,   2.37710504e-01,   1.81374489e-01,\n",
       "          1.66259948e-01,   1.44275162e-01,   1.29160621e-01,\n",
       "          1.15420129e-01,   1.84122587e-01,   1.64885899e-01,\n",
       "          1.05801785e-01,   1.01679638e-01,   5.08398188e-02,\n",
       "          5.08398188e-02,   9.61834411e-03,   1.37404916e-02,\n",
       "          6.32062613e-02,   3.43512289e-02,   1.09923933e-02,\n",
       "          2.61069340e-02,   2.47328848e-02,   0.00000000e+00,\n",
       "          0.00000000e+00,   1.37404916e-03,   0.00000000e+00,\n",
       "          8.24429495e-03,   1.37404916e-03,   2.74809832e-03,\n",
       "          2.06107374e-02]),\n",
       " array([-1.2  , -1.176, -1.152, -1.128, -1.104, -1.08 , -1.056, -1.032,\n",
       "        -1.008, -0.984, -0.96 , -0.936, -0.912, -0.888, -0.864, -0.84 ,\n",
       "        -0.816, -0.792, -0.768, -0.744, -0.72 , -0.696, -0.672, -0.648,\n",
       "        -0.624, -0.6  , -0.576, -0.552, -0.528, -0.504, -0.48 , -0.456,\n",
       "        -0.432, -0.408, -0.384, -0.36 , -0.336, -0.312, -0.288, -0.264,\n",
       "        -0.24 , -0.216, -0.192, -0.168, -0.144, -0.12 , -0.096, -0.072,\n",
       "        -0.048, -0.024,  0.   ,  0.024,  0.048,  0.072,  0.096,  0.12 ,\n",
       "         0.144,  0.168,  0.192,  0.216,  0.24 ,  0.264,  0.288,  0.312,\n",
       "         0.336,  0.36 ,  0.384,  0.408,  0.432,  0.456,  0.48 ,  0.504,\n",
       "         0.528,  0.552,  0.576,  0.6  ,  0.624,  0.648,  0.672,  0.696,\n",
       "         0.72 ,  0.744,  0.768,  0.792,  0.816,  0.84 ,  0.864,  0.888,\n",
       "         0.912,  0.936,  0.96 ,  0.984,  1.008,  1.032,  1.056,  1.08 ,\n",
       "         1.104,  1.128,  1.152,  1.176,  1.2  ]),\n",
       " <a list of 100 Patch objects>)"
      ]
     },
     "execution_count": 5,
     "metadata": {},
     "output_type": "execute_result"
    },
    {
     "data": {
      "image/png": "[encoded data removed]",
      "text/plain": [
       "<matplotlib.figure.Figure at 0x2740957c5f8>"
      ]
     },
     "metadata": {},
     "output_type": "display_data"
    }
   ],
   "source": [
    "import matplotlib.pyplot as plt\n",
    "%matplotlib inline\n",
    "\n",
    "plt.hist(augmented_measurements, 100, normed=1, facecolor='green', alpha=0.75)"
   ]
  },
  {
   "cell_type": "code",
   "execution_count": 6,
   "metadata": {},
   "outputs": [
    {
     "name": "stderr",
     "output_type": "stream",
     "text": [
      "Using TensorFlow backend.\n"
     ]
    }
   ],
   "source": [
    "from keras.models import Sequential\n",
    "from keras.layers import Flatten, Dense, Lambda, Cropping2D, Dropout\n",
    "from keras.layers.convolutional import Convolution2D\n",
    "from keras.layers.pooling import MaxPooling2D\n",
    "\n",
    "dropout_rate=0.5\n",
    "\n",
    "model = Sequential()\n",
    "model.add(Lambda(lambda x: x /255.0 - 0.5, input_shape=(160,320,3)))\n",
    "# input 3@160x320\n",
    "model.add(Cropping2D(cropping=((70,25), (0,0))))\n",
    "# input 3@65x320\n",
    "model.add(Convolution2D(24, 5, 5, activation=\"relu\", subsample=(2,2)))\n",
    "# input 24@31x158\n",
    "model.add(Convolution2D(36, 5, 5, activation=\"relu\", subsample=(2,2)))\n",
    "# input 36@14x77\n",
    "model.add(Convolution2D(48, 5, 5, activation=\"relu\", subsample=(2,2)))\n",
    "# input 48@5x37\n",
    "model.add(Convolution2D(64, 3, 3, activation=\"relu\"))\n",
    "# input 64@3x35\n",
    "model.add(Convolution2D(64, 3, 3, activation=\"relu\"))\n",
    "# input 64@1x32\n",
    "model.add(Flatten())\n",
    "model.add(Dropout(dropout_rate))\n",
    "model.add(Dense(1164))\n",
    "model.add(Dropout(dropout_rate))\n",
    "model.add(Dense(100))\n",
    "model.add(Dropout(dropout_rate))\n",
    "model.add(Dense(50))\n",
    "model.add(Dropout(dropout_rate))\n",
    "model.add(Dense(10))\n",
    "model.add(Dropout(dropout_rate))\n",
    "model.add(Dense(1))\n",
    "\n",
    "model.compile(loss='mse', optimizer='adam')"
   ]
  },
  {
   "cell_type": "code",
   "execution_count": 7,
   "metadata": {},
   "outputs": [
    {
     "name": "stdout",
     "output_type": "stream",
     "text": [
      "Train on 24259 samples, validate on 6065 samples\n",
      "Epoch 1/5\n",
      "24259/24259 [==============================] - 38s - loss: 0.0750 - val_loss: 0.0452\n",
      "Epoch 2/5\n",
      "24259/24259 [==============================] - 34s - loss: 0.0618 - val_loss: 0.0409\n",
      "Epoch 3/5\n",
      "24259/24259 [==============================] - 34s - loss: 0.0560 - val_loss: 0.0404\n",
      "Epoch 4/5\n",
      "24259/24259 [==============================] - 34s - loss: 0.0514 - val_loss: 0.0419\n",
      "Epoch 5/5\n",
      "24259/24259 [==============================] - 34s - loss: 0.0476 - val_loss: 0.0421\n"
     ]
    }
   ],
   "source": [
    "X_train = np.array(augmented_images)\n",
    "y_train = np.array(augmented_measurements)\n",
    "\n",
    "history = model.fit(X_train, y_train, validation_split=0.2, shuffle=True, nb_epoch=5)\n",
    "\n",
    "model.save('model.h5')"
   ]
  },
  {
   "cell_type": "code",
   "execution_count": 8,
   "metadata": {},
   "outputs": [
    {
     "data": {
      "image/png": "[encoded data removed]",
      "text/plain": [
       "<matplotlib.figure.Figure at 0x274a39e5128>"
      ]
     },
     "metadata": {},
     "output_type": "display_data"
    }
   ],
   "source": [
    "import matplotlib.pyplot as plt\n",
    "%matplotlib inline\n",
    "\n",
    "history_dict = history.history\n",
    "loss_values = history_dict['loss']\n",
    "val_loss_values = history_dict['val_loss']\n",
    "epochs = range(1, len(loss_values) + 1)\n",
    "plt.plot(epochs, loss_values, 'bo-', label='Train')\n",
    "plt.plot(epochs, val_loss_values, 'r+-', label='Validation')\n",
    "plt.xlabel('Epochs')\n",
    "plt.title('model mean squared error loss')\n",
    "plt.ylabel('Loss')\n",
    "plt.legend()\n",
    "plt.show()"
   ]
  },
  {
   "cell_type": "code",
   "execution_count": null,
   "metadata": {},
   "outputs": [],
   "source": []
  }
 ],
 "metadata": {
  "kernelspec": {
   "display_name": "Python 3",
   "language": "python",
   "name": "python3"
  },
  "language_info": {
   "codemirror_mode": {
    "name": "ipython",
    "version": 3
   },
   "file_extension": ".py",
   "mimetype": "text/x-python",
   "name": "python",
   "nbconvert_exporter": "python",
   "pygments_lexer": "ipython3",
   "version": "3.5.2"
  },
  "widgets": {
   "state": {},
   "version": "1.1.2"
  }
 },
 "nbformat": 4,
 "nbformat_minor": 2
}
